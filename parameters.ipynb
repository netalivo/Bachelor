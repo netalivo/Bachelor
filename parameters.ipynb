{
 "cells": [
  {
   "cell_type": "code",
   "execution_count": 1,
   "id": "31598e0c",
   "metadata": {},
   "outputs": [
    {
     "name": "stderr",
     "output_type": "stream",
     "text": [
      "/Users/alex/Library/Python/3.9/lib/python/site-packages/urllib3/__init__.py:35: NotOpenSSLWarning: urllib3 v2 only supports OpenSSL 1.1.1+, currently the 'ssl' module is compiled with 'LibreSSL 2.8.3'. See: https://github.com/urllib3/urllib3/issues/3020\n",
      "  warnings.warn(\n"
     ]
    }
   ],
   "source": [
    "from model_SARIMA import *"
   ]
  },
  {
   "cell_type": "code",
   "execution_count": 2,
   "id": "4ec8e3e0",
   "metadata": {},
   "outputs": [
    {
     "name": "stdout",
     "output_type": "stream",
     "text": [
      "Verarbeite Store 1 (Datenlänge: 143)...\n",
      "Store 1: Optimale Parameter für SARIMA: (4, 1, 0), (1, 0, 0, 52)\n",
      "Verarbeite Store 2 (Datenlänge: 143)...\n",
      "Store 2: Optimale Parameter für SARIMA: (2, 0, 2), (1, 0, 0, 52)\n",
      "Verarbeite Store 3 (Datenlänge: 143)...\n",
      "Store 3: Optimale Parameter für SARIMA: (1, 1, 1), (2, 0, 0, 52)\n",
      "Verarbeite Store 4 (Datenlänge: 143)...\n",
      "Store 4: Optimale Parameter für SARIMA: (2, 1, 1), (1, 0, 0, 52)\n",
      "Verarbeite Store 5 (Datenlänge: 143)...\n",
      "Store 5: Optimale Parameter für SARIMA: (4, 1, 0), (1, 0, 0, 52)\n",
      "Verarbeite Store 6 (Datenlänge: 143)...\n",
      "Store 6: Optimale Parameter für SARIMA: (2, 0, 2), (1, 0, 0, 52)\n",
      "Verarbeite Store 7 (Datenlänge: 143)...\n",
      "Store 7: Optimale Parameter für SARIMA: (2, 1, 3), (0, 1, 0, 52)\n",
      "Verarbeite Store 8 (Datenlänge: 143)...\n",
      "Store 8: Optimale Parameter für SARIMA: (2, 0, 2), (1, 0, 0, 52)\n",
      "Verarbeite Store 9 (Datenlänge: 143)...\n",
      "Store 9: Optimale Parameter für SARIMA: (4, 1, 0), (1, 0, 0, 52)\n",
      "Verarbeite Store 10 (Datenlänge: 143)...\n",
      "Store 10: Optimale Parameter für SARIMA: (2, 0, 2), (1, 0, 0, 52)\n",
      "Verarbeite Store 11 (Datenlänge: 143)...\n",
      "Store 11: Optimale Parameter für SARIMA: (2, 0, 2), (1, 0, 0, 52)\n",
      "Verarbeite Store 12 (Datenlänge: 143)...\n",
      "Store 12: Optimale Parameter für SARIMA: (2, 0, 2), (1, 0, 0, 52)\n",
      "Verarbeite Store 13 (Datenlänge: 143)...\n",
      "Store 13: Optimale Parameter für SARIMA: (2, 0, 2), (1, 0, 0, 52)\n",
      "Verarbeite Store 14 (Datenlänge: 143)...\n",
      "Store 14: Optimale Parameter für SARIMA: (3, 1, 0), (1, 0, 0, 52)\n",
      "Verarbeite Store 15 (Datenlänge: 143)...\n",
      "Store 15: Optimale Parameter für SARIMA: (2, 0, 2), (1, 0, 0, 52)\n",
      "Verarbeite Store 16 (Datenlänge: 143)...\n",
      "Store 16: Optimale Parameter für SARIMA: (2, 0, 2), (1, 0, 0, 52)\n",
      "Verarbeite Store 17 (Datenlänge: 143)...\n",
      "Store 17: Optimale Parameter für SARIMA: (1, 1, 1), (1, 0, 0, 52)\n",
      "Verarbeite Store 18 (Datenlänge: 143)...\n",
      "Store 18: Optimale Parameter für SARIMA: (2, 0, 2), (1, 0, 0, 52)\n",
      "Verarbeite Store 19 (Datenlänge: 143)...\n",
      "Store 19: Optimale Parameter für SARIMA: (2, 0, 2), (1, 0, 0, 52)\n",
      "Verarbeite Store 20 (Datenlänge: 143)...\n",
      "Store 20: Optimale Parameter für SARIMA: (2, 0, 2), (1, 0, 0, 52)\n",
      "Verarbeite Store 21 (Datenlänge: 143)...\n",
      "Store 21: Optimale Parameter für SARIMA: (0, 0, 4), (0, 0, 1, 52)\n",
      "Verarbeite Store 22 (Datenlänge: 143)...\n",
      "Store 22: Optimale Parameter für SARIMA: (2, 0, 2), (1, 0, 0, 52)\n",
      "Verarbeite Store 23 (Datenlänge: 143)...\n",
      "Store 23: Optimale Parameter für SARIMA: (2, 0, 2), (1, 0, 0, 52)\n",
      "Verarbeite Store 24 (Datenlänge: 143)...\n",
      "Store 24: Optimale Parameter für SARIMA: (2, 0, 2), (1, 0, 0, 52)\n",
      "Verarbeite Store 25 (Datenlänge: 143)...\n",
      "Store 25: Optimale Parameter für SARIMA: (2, 0, 2), (1, 0, 0, 52)\n",
      "Verarbeite Store 26 (Datenlänge: 143)...\n",
      "Store 26: Optimale Parameter für SARIMA: (2, 0, 2), (1, 0, 0, 52)\n",
      "Verarbeite Store 27 (Datenlänge: 143)...\n",
      "Store 27: Optimale Parameter für SARIMA: (2, 0, 2), (1, 0, 0, 52)\n",
      "Verarbeite Store 28 (Datenlänge: 143)...\n",
      "Store 28: Optimale Parameter für SARIMA: (0, 0, 4), (0, 0, 1, 52)\n",
      "Verarbeite Store 29 (Datenlänge: 143)...\n",
      "Store 29: Optimale Parameter für SARIMA: (0, 0, 4), (0, 0, 1, 52)\n",
      "Verarbeite Store 30 (Datenlänge: 143)...\n",
      "Store 30: Optimale Parameter für SARIMA: (1, 1, 0), (1, 0, 0, 52)\n",
      "Verarbeite Store 31 (Datenlänge: 143)...\n",
      "Store 31: Optimale Parameter für SARIMA: (0, 0, 4), (0, 0, 1, 52)\n",
      "Verarbeite Store 32 (Datenlänge: 143)...\n",
      "Store 32: Optimale Parameter für SARIMA: (2, 0, 2), (1, 0, 0, 52)\n",
      "Verarbeite Store 33 (Datenlänge: 143)...\n",
      "Store 33: Optimale Parameter für SARIMA: (0, 1, 4), (1, 0, 0, 52)\n",
      "Verarbeite Store 34 (Datenlänge: 143)...\n",
      "Store 34: Optimale Parameter für SARIMA: (2, 0, 2), (1, 0, 0, 52)\n",
      "Verarbeite Store 35 (Datenlänge: 143)...\n",
      "Store 35: Optimale Parameter für SARIMA: (4, 1, 0), (1, 0, 0, 52)\n",
      "Verarbeite Store 36 (Datenlänge: 143)...\n",
      "Store 36: Optimale Parameter für SARIMA: (0, 1, 4), (1, 0, 0, 52)\n",
      "Verarbeite Store 37 (Datenlänge: 143)...\n",
      "Store 37: Optimale Parameter für SARIMA: (1, 1, 0), (1, 0, 0, 52)\n",
      "Verarbeite Store 38 (Datenlänge: 143)...\n",
      "Store 38: Optimale Parameter für SARIMA: (1, 1, 0), (0, 1, 0, 52)\n",
      "Verarbeite Store 39 (Datenlänge: 143)...\n",
      "Store 39: Optimale Parameter für SARIMA: (4, 1, 0), (1, 0, 0, 52)\n",
      "Verarbeite Store 40 (Datenlänge: 143)...\n",
      "Store 40: Optimale Parameter für SARIMA: (2, 0, 2), (1, 0, 0, 52)\n",
      "Verarbeite Store 41 (Datenlänge: 143)...\n",
      "Store 41: Optimale Parameter für SARIMA: (3, 1, 1), (1, 0, 0, 52)\n",
      "Verarbeite Store 42 (Datenlänge: 143)...\n",
      "Store 42: Optimale Parameter für SARIMA: (2, 1, 3), (0, 1, 0, 52)\n",
      "Verarbeite Store 43 (Datenlänge: 143)...\n",
      "Store 43: Optimale Parameter für SARIMA: (0, 1, 4), (1, 0, 0, 52)\n",
      "Verarbeite Store 44 (Datenlänge: 143)...\n",
      "Store 44: Optimale Parameter für SARIMA: (0, 1, 1), (3, 0, 0, 52)\n",
      "Verarbeite Store 45 (Datenlänge: 143)...\n",
      "Store 45: Optimale Parameter für SARIMA: (2, 0, 2), (1, 0, 0, 52)\n"
     ]
    },
    {
     "data": {
      "text/plain": [
       "'optimal_sarima_orders.txt'"
      ]
     },
     "execution_count": 2,
     "metadata": {},
     "output_type": "execute_result"
    }
   ],
   "source": [
    "sarima_params('Walmart_Sales.csv')"
   ]
  }
 ],
 "metadata": {
  "kernelspec": {
   "display_name": "Python 3",
   "language": "python",
   "name": "python3"
  },
  "language_info": {
   "codemirror_mode": {
    "name": "ipython",
    "version": 3
   },
   "file_extension": ".py",
   "mimetype": "text/x-python",
   "name": "python",
   "nbconvert_exporter": "python",
   "pygments_lexer": "ipython3",
   "version": "3.9.6"
  }
 },
 "nbformat": 4,
 "nbformat_minor": 5
}
